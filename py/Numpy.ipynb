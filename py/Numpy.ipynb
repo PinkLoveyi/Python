{
 "cells": [
  {
   "cell_type": "code",
   "execution_count": 8,
   "metadata": {},
   "outputs": [
    {
     "name": "stdout",
     "output_type": "stream",
     "text": [
      "2\n",
      "(2, 3)\n",
      "6\n"
     ]
    }
   ],
   "source": [
    "import numpy as np\n",
    "\n",
    "array = np.array([[1,2,3],\n",
    "               [4,5,6]]) \n",
    "print(array.ndim) #矩阵的维度\n",
    "print(array.shape)#大小n*m\n",
    "print(array.size) #  有多少个元素\n"
   ]
  },
  {
   "cell_type": "code",
   "execution_count": 9,
   "metadata": {},
   "outputs": [
    {
     "name": "stdout",
     "output_type": "stream",
     "text": [
      "int64\n",
      "int32\n"
     ]
    }
   ],
   "source": [
    "a = np.array([],dtype=np.int64)\n",
    "print(a.dtype)\n",
    "#(默认)\n",
    "\n",
    "a = np.array([],dtype=np.int32)\n",
    "print(a.dtype)"
   ]
  },
  {
   "cell_type": "code",
   "execution_count": 10,
   "metadata": {},
   "outputs": [
    {
     "name": "stdout",
     "output_type": "stream",
     "text": [
      "[[0. 0. 0. 0.]\n",
      " [0. 0. 0. 0.]\n",
      " [0. 0. 0. 0.]]\n",
      "[[1. 1. 1. 1.]\n",
      " [1. 1. 1. 1.]\n",
      " [1. 1. 1. 1.]]\n",
      "[[1. 1. 1. 1.]\n",
      " [1. 1. 1. 1.]\n",
      " [1. 1. 1. 1.]]\n",
      "[10 12 14 16 18]\n",
      "[[ 0  1  2  3]\n",
      " [ 4  5  6  7]\n",
      " [ 8  9 10 11]]\n"
     ]
    }
   ],
   "source": [
    "a = np.zeros( (3,4) )  \n",
    "print(a)\n",
    "\n",
    "a = np.ones( (3,4) )     \n",
    "print(a)\n",
    "\n",
    "a = np.empty( (3,4) )    \n",
    "print(a)\n",
    "\n",
    "a = np.arange(10,20,2) #start,end,step  (末尾取不到)\n",
    "print(a)\n",
    "\n",
    "a = np.arange(12).reshape((3,4))  #(末尾取不到)\n",
    "print(a)"
   ]
  },
  {
   "cell_type": "markdown",
   "metadata": {},
   "source": [
    "a = np.linspace(1,10,5) #生成从1到10的5条线段\n",
    "print(a)\n",
    "\n",
    "c = a -/+ b\n",
    "c = b**4 4次方\n",
    "c = np.sin(a)/cos/tan\n",
    "\n",
    "乘法\n",
    "逐个相乘 c = a*b\n",
    "矩阵乘法 np.dot(a,b)/a.dot(b)\n",
    "\n",
    "a = np.random.random((2,4))[0,1]间数值 2 row 4cloums\n",
    "np.sum/min/max(a) sum all\n",
    "np.sum(a,axis = 1/0) sum colums/rows direction\n",
    "np.argmin(a) index of minimum \n",
    "\n",
    "np.mean(a)/a.mean/np.average(a)\n",
    "np.median(a) 中位数\n",
    "np.cumsum(a)累加\n",
    "\n",
    "np.sort(a) 逐行排序\n",
    "np.transpose()/a.T\n",
    "\n",
    "#Index\n",
    "#one-dim\n",
    "A=[3,4,5,6]\n",
    ">>>A[2] = 5\n",
    "#two-dim\n",
    "A=[[3,4,5],\n",
    "　　[6,7,8],\n",
    "　　[9,10,11]]\n",
    ">>>A[2] = [9,10,11]\n",
    ">>>A[2,:]=[9,10,11]\n",
    ">>>A[2][1]=10\n",
    ">>>A[2,1]=10\n",
    ">>>A[2,1:2]=[10]\n",
    "　　　\n",
    "#Array merge\n",
    "np.vstack((a,b))//上下合并\n",
    "np.hstack((a,b))//左右\n",
    "　　　\n",
    "One-dim a = [2,2,3] -> a.reshape(3,1) ->[[2],\n",
    "　　　\t\t\t\t\t[2],\t\n",
    "　　　\t\t\t\t\t[3]]\n",
    "#Divide\n",
    "a = np.range(12).reshape(3,4)\n",
    "np.split(a,2,axis=1)//列方向,需均分\n",
    "np.array_split(a,3,axis=1);//不用均分\n",
    "np.vsplit(a,3)\n",
    "np.hsplit(a,2)\n",
    "\n",
    "#Copy\n",
    "B=a      //指向同一个地方\n",
    "B=a.copy()//deep copy 只是copy的数值\n",
    "\n",
    "\n",
    "\n"
   ]
  },
  {
   "cell_type": "code",
   "execution_count": 11,
   "metadata": {
    "scrolled": true
   },
   "outputs": [
    {
     "name": "stdout",
     "output_type": "stream",
     "text": [
      "[10]\n"
     ]
    }
   ],
   "source": [
    "A=np.array([[3,4,5],\n",
    "              [6,7,8],\n",
    "              [9,10,11]])\n",
    "print(A[2,1:2])#2 not include"
   ]
  },
  {
   "cell_type": "code",
   "execution_count": null,
   "metadata": {},
   "outputs": [],
   "source": []
  }
 ],
 "metadata": {
  "kernelspec": {
   "display_name": "python2",
   "language": "python",
   "name": "python2"
  },
  "language_info": {
   "codemirror_mode": {
    "name": "ipython",
    "version": 3
   },
   "file_extension": ".py",
   "mimetype": "text/x-python",
   "name": "python",
   "nbconvert_exporter": "python",
   "pygments_lexer": "ipython3",
   "version": "3.7.0"
  }
 },
 "nbformat": 4,
 "nbformat_minor": 2
}
